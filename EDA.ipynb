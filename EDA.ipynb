{
 "cells": [
  {
   "cell_type": "code",
   "execution_count": 1,
   "id": "85a5a493-a16d-4f2a-8a9f-44252bbb17b0",
   "metadata": {},
   "outputs": [],
   "source": [
    "import pandas as pd\n",
    "import pickle as pickle\n",
    "import matplotlib.pyplot as plt"
   ]
  },
  {
   "cell_type": "code",
   "execution_count": 2,
   "id": "331142b8-e9ce-4cfc-a616-4d788699a6e9",
   "metadata": {},
   "outputs": [],
   "source": [
    "def load_data(dataset_dir):\n",
    "    with open('/opt/ml/input/data/label_type.pkl', 'rb') as f:\n",
    "        label_type = pickle.load(f)\n",
    "    dataset = pd.read_csv(dataset_dir, delimiter='\\t', header=None)\n",
    "    dataset = preprocessing_dataset(dataset, label_type)\n",
    "    return dataset\n",
    "\n",
    "def preprocessing_dataset(dataset, label_type):\n",
    "    label = []\n",
    "    for i in dataset[8]:\n",
    "        if i == 'blind':\n",
    "            label.append(100)\n",
    "        else:\n",
    "            label.append(label_type[i])\n",
    "    out_dataset = pd.DataFrame({'sentence':dataset[1],'entity_01':dataset[2],'entity_02':dataset[5],'label':label,})\n",
    "    return out_dataset"
   ]
  },
  {
   "cell_type": "code",
   "execution_count": 3,
   "id": "9f3522b6-9c6a-4362-aaef-7e257f9ed9e4",
   "metadata": {},
   "outputs": [],
   "source": [
    "dataset_path = r\"/opt/ml/input/data/train/train.tsv\"\n",
    "\n",
    "dataset = load_data(dataset_path)"
   ]
  },
  {
   "cell_type": "code",
   "execution_count": 4,
   "id": "cd8a336e-ffca-42cb-b1ba-d285263fe77a",
   "metadata": {},
   "outputs": [
    {
     "data": {
      "text/plain": [
       "label\n",
       "0     4432\n",
       "10     815\n",
       "4      683\n",
       "2      553\n",
       "15     335\n",
       "6      231\n",
       "7      209\n",
       "5      186\n",
       "17     171\n",
       "8      164\n",
       "20     135\n",
       "9      115\n",
       "24     103\n",
       "1       92\n",
       "21      84\n",
       "23      79\n",
       "33      67\n",
       "11      58\n",
       "22      56\n",
       "25      52\n",
       "14      45\n",
       "12      45\n",
       "3       44\n",
       "27      36\n",
       "35      27\n",
       "32      26\n",
       "16      23\n",
       "38      18\n",
       "34      15\n",
       "31      15\n",
       "30      12\n",
       "13      11\n",
       "36      11\n",
       "39       9\n",
       "28       9\n",
       "26       8\n",
       "18       7\n",
       "29       6\n",
       "41       5\n",
       "19       4\n",
       "37       3\n",
       "40       1\n",
       "Name: sentence, dtype: int64"
      ]
     },
     "execution_count": 4,
     "metadata": {},
     "output_type": "execute_result"
    }
   ],
   "source": [
    "classes = dataset.groupby('label').count()['sentence'].sort_values(ascending=False)\n",
    "\n",
    "classes"
   ]
  },
  {
   "cell_type": "code",
   "execution_count": 5,
   "id": "4a5cac02-4ab9-4b17-b76f-719251af546e",
   "metadata": {},
   "outputs": [
    {
     "data": {
      "image/png": "[encoded data removed]",
      "text/plain": [
       "<Figure size 432x288 with 1 Axes>"
      ]
     },
     "metadata": {
      "needs_background": "light"
     },
     "output_type": "display_data"
    }
   ],
   "source": [
    "plt.bar(classes.index,classes)\n",
    "plt.show()"
   ]
  }
 ],
 "metadata": {
  "kernelspec": {
   "display_name": "Python 3",
   "language": "python",
   "name": "python3"
  },
  "language_info": {
   "codemirror_mode": {
    "name": "ipython",
    "version": 3
   },
   "file_extension": ".py",
   "mimetype": "text/x-python",
   "name": "python",
   "nbconvert_exporter": "python",
   "pygments_lexer": "ipython3",
   "version": "3.7.7"
  }
 },
 "nbformat": 4,
 "nbformat_minor": 5
}
